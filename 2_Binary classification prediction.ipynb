{
 "cells": [
  {
   "cell_type": "markdown",
   "id": "0a1c9935-e63f-4c30-84a8-e4a0e2cef674",
   "metadata": {},
   "source": [
    "# Tensorflow JS - Binary classification\n",
    "## Predict if AFI goes for a run today"
   ]
  },
  {
   "cell_type": "code",
   "execution_count": 1,
   "id": "d2dc33a3-7757-4e58-800e-1a2b00d1da30",
   "metadata": {},
   "outputs": [],
   "source": [
    "// First import the Luxon library\n",
    "import { DateTime } from 'npm:luxon'"
   ]
  },
  {
   "cell_type": "code",
   "execution_count": 2,
   "id": "fac834d0-570b-4edb-adab-4799df9228e2",
   "metadata": {},
   "outputs": [
    {
     "data": {
      "text/plain": [
       "DateTime { ts: 2024-11-01T00:00:00.000+01:00, zone: Europe/Zurich, locale: en-US }"
      ]
     },
     "execution_count": 2,
     "metadata": {},
     "output_type": "execute_result"
    }
   ],
   "source": [
    "const startDate = DateTime.fromObject({day: 1, month: 1, year: 2024})\n",
    "const endDate = DateTime.fromObject({day: 31, month: 10, year: 2024})\n",
    "\n",
    "// AFI goes for a run every Monday, Wednesday and Friday\n",
    "// Except for last day of the month\n",
    "\n",
    "let loopDate = startDate;\n",
    "const learningData = [];\n",
    "\n",
    "while (loopDate <= endDate) {\n",
    "  learningData.push({\n",
    "    dayStr: loopDate.toFormat('dd-MM-yyyy'),\n",
    "    weekday: loopDate.weekday,\n",
    "    isLastDayOfMonth: loopDate.day === loopDate.daysInMonth,\n",
    "    goingForRun: (loopDate.weekday === 1 || loopDate.weekday === 3 || loopDate.weekday === 5) && loopDate.day !== loopDate.daysInMonth,\n",
    "  });    \n",
    "  loopDate = loopDate.plus({days: 1});\n",
    "}\n"
   ]
  },
  {
   "cell_type": "markdown",
   "id": "1d55cca0-308d-4d89-aeb1-c5437f49df82",
   "metadata": {},
   "source": [
    "## Preparation of data for model fitting\n"
   ]
  },
  {
   "cell_type": "code",
   "execution_count": 3,
   "id": "953d87b9-7444-402d-850a-5991a86e3cc5",
   "metadata": {},
   "outputs": [],
   "source": [
    "// If you have questions https://www.afiether.com/contact\n",
    "// If you want to be up to date https://www.afiether.com/subscribe"
   ]
  },
  {
   "cell_type": "code",
   "execution_count": 4,
   "id": "11b809b5-412a-44de-b0f9-ae8d2ae7553d",
   "metadata": {},
   "outputs": [],
   "source": [
    "import pl from 'npm:nodejs-polars'"
   ]
  },
  {
   "cell_type": "code",
   "execution_count": 5,
   "id": "47a686c9-2a21-4a12-bcfb-c20e2c21a875",
   "metadata": {},
   "outputs": [
    {
     "data": {
      "application/vnd.dataresource+json": {
       "bytes": null,
       "data": [
        {
         "goingForRun": 1,
         "isLastDayOfMonth": 0,
         "weekday": 1
        },
        {
         "goingForRun": 0,
         "isLastDayOfMonth": 0,
         "weekday": 2
        },
        {
         "goingForRun": 1,
         "isLastDayOfMonth": 0,
         "weekday": 3
        },
        {
         "goingForRun": 0,
         "isLastDayOfMonth": 0,
         "weekday": 4
        },
        {
         "goingForRun": 1,
         "isLastDayOfMonth": 0,
         "weekday": 5
        },
        {
         "goingForRun": 0,
         "isLastDayOfMonth": 0,
         "weekday": 6
        },
        {
         "goingForRun": 0,
         "isLastDayOfMonth": 0,
         "weekday": 7
        },
        {
         "goingForRun": 1,
         "isLastDayOfMonth": 0,
         "weekday": 1
        },
        {
         "goingForRun": 0,
         "isLastDayOfMonth": 0,
         "weekday": 2
        },
        {
         "goingForRun": 1,
         "isLastDayOfMonth": 0,
         "weekday": 3
        },
        {
         "goingForRun": 0,
         "isLastDayOfMonth": 0,
         "weekday": 4
        },
        {
         "goingForRun": 1,
         "isLastDayOfMonth": 0,
         "weekday": 5
        },
        {
         "goingForRun": 0,
         "isLastDayOfMonth": 0,
         "weekday": 6
        },
        {
         "goingForRun": 0,
         "isLastDayOfMonth": 0,
         "weekday": 7
        },
        {
         "goingForRun": 1,
         "isLastDayOfMonth": 0,
         "weekday": 1
        },
        {
         "goingForRun": 0,
         "isLastDayOfMonth": 0,
         "weekday": 2
        },
        {
         "goingForRun": 1,
         "isLastDayOfMonth": 0,
         "weekday": 3
        },
        {
         "goingForRun": 0,
         "isLastDayOfMonth": 0,
         "weekday": 4
        },
        {
         "goingForRun": 1,
         "isLastDayOfMonth": 0,
         "weekday": 5
        },
        {
         "goingForRun": 0,
         "isLastDayOfMonth": 0,
         "weekday": 6
        },
        {
         "goingForRun": 0,
         "isLastDayOfMonth": 0,
         "weekday": 7
        },
        {
         "goingForRun": 1,
         "isLastDayOfMonth": 0,
         "weekday": 1
        },
        {
         "goingForRun": 0,
         "isLastDayOfMonth": 0,
         "weekday": 2
        },
        {
         "goingForRun": 1,
         "isLastDayOfMonth": 0,
         "weekday": 3
        },
        {
         "goingForRun": 0,
         "isLastDayOfMonth": 0,
         "weekday": 4
        },
        {
         "goingForRun": 1,
         "isLastDayOfMonth": 0,
         "weekday": 5
        },
        {
         "goingForRun": 0,
         "isLastDayOfMonth": 0,
         "weekday": 6
        },
        {
         "goingForRun": 0,
         "isLastDayOfMonth": 0,
         "weekday": 7
        },
        {
         "goingForRun": 1,
         "isLastDayOfMonth": 0,
         "weekday": 1
        },
        {
         "goingForRun": 0,
         "isLastDayOfMonth": 0,
         "weekday": 2
        },
        {
         "goingForRun": 0,
         "isLastDayOfMonth": 1,
         "weekday": 3
        },
        {
         "goingForRun": 0,
         "isLastDayOfMonth": 0,
         "weekday": 4
        },
        {
         "goingForRun": 1,
         "isLastDayOfMonth": 0,
         "weekday": 5
        },
        {
         "goingForRun": 0,
         "isLastDayOfMonth": 0,
         "weekday": 6
        },
        {
         "goingForRun": 0,
         "isLastDayOfMonth": 0,
         "weekday": 7
        },
        {
         "goingForRun": 1,
         "isLastDayOfMonth": 0,
         "weekday": 1
        },
        {
         "goingForRun": 0,
         "isLastDayOfMonth": 0,
         "weekday": 2
        },
        {
         "goingForRun": 1,
         "isLastDayOfMonth": 0,
         "weekday": 3
        },
        {
         "goingForRun": 0,
         "isLastDayOfMonth": 0,
         "weekday": 4
        },
        {
         "goingForRun": 1,
         "isLastDayOfMonth": 0,
         "weekday": 5
        },
        {
         "goingForRun": 0,
         "isLastDayOfMonth": 0,
         "weekday": 6
        },
        {
         "goingForRun": 0,
         "isLastDayOfMonth": 0,
         "weekday": 7
        },
        {
         "goingForRun": 1,
         "isLastDayOfMonth": 0,
         "weekday": 1
        },
        {
         "goingForRun": 0,
         "isLastDayOfMonth": 0,
         "weekday": 2
        },
        {
         "goingForRun": 1,
         "isLastDayOfMonth": 0,
         "weekday": 3
        },
        {
         "goingForRun": 0,
         "isLastDayOfMonth": 0,
         "weekday": 4
        },
        {
         "goingForRun": 1,
         "isLastDayOfMonth": 0,
         "weekday": 5
        },
        {
         "goingForRun": 0,
         "isLastDayOfMonth": 0,
         "weekday": 6
        },
        {
         "goingForRun": 0,
         "isLastDayOfMonth": 0,
         "weekday": 7
        },
        {
         "goingForRun": 1,
         "isLastDayOfMonth": 0,
         "weekday": 1
        }
       ],
       "description": null,
       "dialect": null,
       "encoding": null,
       "format": null,
       "hash": null,
       "homepage": null,
       "licenses": null,
       "mediatype": null,
       "path": null,
       "schema": {
        "fields": [
         {
          "constraints": null,
          "description": null,
          "example": null,
          "format": null,
          "name": "weekday",
          "rdfType": null,
          "title": null,
          "type": "number"
         },
         {
          "constraints": null,
          "description": null,
          "example": null,
          "format": null,
          "name": "isLastDayOfMonth",
          "rdfType": null,
          "title": null,
          "type": "number"
         },
         {
          "constraints": null,
          "description": null,
          "example": null,
          "format": null,
          "name": "goingForRun",
          "rdfType": null,
          "title": null,
          "type": "number"
         }
        ],
        "foreignKeys": null,
        "missingValues": null,
        "primaryKey": null
       },
       "sources": null,
       "title": null
      },
      "text/html": [
       "<table><thead><tr><th>weekday</th><th>isLastDayOfMonth</th><th>goingForRun</th></tr></thead><tbody><tr><td>1</td><td>0</td><td>1</td></tr><tr><td>2</td><td>0</td><td>0</td></tr><tr><td>3</td><td>0</td><td>1</td></tr><tr><td>4</td><td>0</td><td>0</td></tr><tr><td>5</td><td>0</td><td>1</td></tr><tr><td>6</td><td>0</td><td>0</td></tr><tr><td>7</td><td>0</td><td>0</td></tr><tr><td>1</td><td>0</td><td>1</td></tr><tr><td>2</td><td>0</td><td>0</td></tr><tr><td>3</td><td>0</td><td>1</td></tr><tr><td>4</td><td>0</td><td>0</td></tr><tr><td>5</td><td>0</td><td>1</td></tr><tr><td>6</td><td>0</td><td>0</td></tr><tr><td>7</td><td>0</td><td>0</td></tr><tr><td>1</td><td>0</td><td>1</td></tr><tr><td>2</td><td>0</td><td>0</td></tr><tr><td>3</td><td>0</td><td>1</td></tr><tr><td>4</td><td>0</td><td>0</td></tr><tr><td>5</td><td>0</td><td>1</td></tr><tr><td>6</td><td>0</td><td>0</td></tr><tr><td>7</td><td>0</td><td>0</td></tr><tr><td>1</td><td>0</td><td>1</td></tr><tr><td>2</td><td>0</td><td>0</td></tr><tr><td>3</td><td>0</td><td>1</td></tr><tr><td>4</td><td>0</td><td>0</td></tr><tr><td>5</td><td>0</td><td>1</td></tr><tr><td>6</td><td>0</td><td>0</td></tr><tr><td>7</td><td>0</td><td>0</td></tr><tr><td>1</td><td>0</td><td>1</td></tr><tr><td>2</td><td>0</td><td>0</td></tr><tr><td>3</td><td>1</td><td>0</td></tr><tr><td>4</td><td>0</td><td>0</td></tr><tr><td>5</td><td>0</td><td>1</td></tr><tr><td>6</td><td>0</td><td>0</td></tr><tr><td>7</td><td>0</td><td>0</td></tr><tr><td>1</td><td>0</td><td>1</td></tr><tr><td>2</td><td>0</td><td>0</td></tr><tr><td>3</td><td>0</td><td>1</td></tr><tr><td>4</td><td>0</td><td>0</td></tr><tr><td>5</td><td>0</td><td>1</td></tr><tr><td>6</td><td>0</td><td>0</td></tr><tr><td>7</td><td>0</td><td>0</td></tr><tr><td>1</td><td>0</td><td>1</td></tr><tr><td>2</td><td>0</td><td>0</td></tr><tr><td>3</td><td>0</td><td>1</td></tr><tr><td>4</td><td>0</td><td>0</td></tr><tr><td>5</td><td>0</td><td>1</td></tr><tr><td>6</td><td>0</td><td>0</td></tr><tr><td>7</td><td>0</td><td>0</td></tr><tr><td>1</td><td>0</td><td>1</td></tr></tbody></table>"
      ]
     },
     "execution_count": 5,
     "metadata": {},
     "output_type": "execute_result"
    }
   ],
   "source": [
    "const learningDf = pl.readRecords(learningData)\n",
    "const modelDf = learningDf\n",
    "  .select(\n",
    "    pl.col('weekday'),\n",
    "    pl.when(pl.col('isLastDayOfMonth').eq(true))\n",
    "      .then(pl.lit(1))\n",
    "      .otherwise(pl.lit(0))\n",
    "      .alias('isLastDayOfMonth'),\n",
    "    pl.when(pl.col('goingForRun').eq(true))\n",
    "      .then(pl.lit(1))\n",
    "      .otherwise(pl.lit(0))\n",
    "      .alias('goingForRun'),\n",
    "            \n",
    "  );\n",
    "modelDf"
   ]
  },
  {
   "cell_type": "code",
   "execution_count": 6,
   "id": "6f2897ce-6895-4ef2-9d25-9cc5cb4678dc",
   "metadata": {},
   "outputs": [],
   "source": [
    "const inputVector = modelDf.toRecords().map(_ => \n",
    "  [_.weekday, _.isLastDayOfMonth]\n",
    ");\n",
    "const outputVector = modelDf.toRecords().map(_ => \n",
    "  [_.goingForRun]\n",
    ");"
   ]
  },
  {
   "cell_type": "code",
   "execution_count": 7,
   "id": "c2be2356-cb50-4935-b370-a1784bf1675e",
   "metadata": {},
   "outputs": [
    {
     "data": {
      "text/plain": [
       "[\n",
       "  [ \u001b[33m1\u001b[39m ], [ \u001b[33m0\u001b[39m ], [ \u001b[33m1\u001b[39m ], [ \u001b[33m0\u001b[39m ], [ \u001b[33m1\u001b[39m ], [ \u001b[33m0\u001b[39m ], [ \u001b[33m0\u001b[39m ], [ \u001b[33m1\u001b[39m ],\n",
       "  [ \u001b[33m0\u001b[39m ], [ \u001b[33m1\u001b[39m ], [ \u001b[33m0\u001b[39m ], [ \u001b[33m1\u001b[39m ], [ \u001b[33m0\u001b[39m ], [ \u001b[33m0\u001b[39m ], [ \u001b[33m1\u001b[39m ], [ \u001b[33m0\u001b[39m ],\n",
       "  [ \u001b[33m1\u001b[39m ], [ \u001b[33m0\u001b[39m ], [ \u001b[33m1\u001b[39m ], [ \u001b[33m0\u001b[39m ], [ \u001b[33m0\u001b[39m ], [ \u001b[33m1\u001b[39m ], [ \u001b[33m0\u001b[39m ], [ \u001b[33m1\u001b[39m ],\n",
       "  [ \u001b[33m0\u001b[39m ], [ \u001b[33m1\u001b[39m ], [ \u001b[33m0\u001b[39m ], [ \u001b[33m0\u001b[39m ], [ \u001b[33m1\u001b[39m ], [ \u001b[33m0\u001b[39m ], [ \u001b[33m0\u001b[39m ], [ \u001b[33m0\u001b[39m ],\n",
       "  [ \u001b[33m1\u001b[39m ], [ \u001b[33m0\u001b[39m ], [ \u001b[33m0\u001b[39m ], [ \u001b[33m1\u001b[39m ], [ \u001b[33m0\u001b[39m ], [ \u001b[33m1\u001b[39m ], [ \u001b[33m0\u001b[39m ], [ \u001b[33m1\u001b[39m ],\n",
       "  [ \u001b[33m0\u001b[39m ], [ \u001b[33m0\u001b[39m ], [ \u001b[33m1\u001b[39m ], [ \u001b[33m0\u001b[39m ], [ \u001b[33m1\u001b[39m ], [ \u001b[33m0\u001b[39m ], [ \u001b[33m1\u001b[39m ], [ \u001b[33m0\u001b[39m ],\n",
       "  [ \u001b[33m0\u001b[39m ], [ \u001b[33m1\u001b[39m ], [ \u001b[33m0\u001b[39m ], [ \u001b[33m1\u001b[39m ], [ \u001b[33m0\u001b[39m ], [ \u001b[33m1\u001b[39m ], [ \u001b[33m0\u001b[39m ], [ \u001b[33m0\u001b[39m ],\n",
       "  [ \u001b[33m1\u001b[39m ], [ \u001b[33m0\u001b[39m ], [ \u001b[33m1\u001b[39m ], [ \u001b[33m0\u001b[39m ], [ \u001b[33m1\u001b[39m ], [ \u001b[33m0\u001b[39m ], [ \u001b[33m0\u001b[39m ], [ \u001b[33m1\u001b[39m ],\n",
       "  [ \u001b[33m0\u001b[39m ], [ \u001b[33m1\u001b[39m ], [ \u001b[33m0\u001b[39m ], [ \u001b[33m1\u001b[39m ], [ \u001b[33m0\u001b[39m ], [ \u001b[33m0\u001b[39m ], [ \u001b[33m1\u001b[39m ], [ \u001b[33m0\u001b[39m ],\n",
       "  [ \u001b[33m1\u001b[39m ], [ \u001b[33m0\u001b[39m ], [ \u001b[33m1\u001b[39m ], [ \u001b[33m0\u001b[39m ], [ \u001b[33m0\u001b[39m ], [ \u001b[33m1\u001b[39m ], [ \u001b[33m0\u001b[39m ], [ \u001b[33m1\u001b[39m ],\n",
       "  [ \u001b[33m0\u001b[39m ], [ \u001b[33m1\u001b[39m ], [ \u001b[33m0\u001b[39m ], [ \u001b[33m0\u001b[39m ], [ \u001b[33m1\u001b[39m ], [ \u001b[33m0\u001b[39m ], [ \u001b[33m1\u001b[39m ], [ \u001b[33m0\u001b[39m ],\n",
       "  [ \u001b[33m1\u001b[39m ], [ \u001b[33m0\u001b[39m ], [ \u001b[33m0\u001b[39m ], [ \u001b[33m1\u001b[39m ], [ \u001b[33m0\u001b[39m ], [ \u001b[33m1\u001b[39m ], [ \u001b[33m0\u001b[39m ], [ \u001b[33m1\u001b[39m ],\n",
       "  [ \u001b[33m0\u001b[39m ], [ \u001b[33m0\u001b[39m ], [ \u001b[33m1\u001b[39m ], [ \u001b[33m0\u001b[39m ],\n",
       "  ... 205 more items\n",
       "]"
      ]
     },
     "execution_count": 7,
     "metadata": {},
     "output_type": "execute_result"
    }
   ],
   "source": [
    "outputVector"
   ]
  },
  {
   "cell_type": "markdown",
   "id": "342d00e8-7a64-4463-910a-24d6c0d8622a",
   "metadata": {},
   "source": [
    "## Instatiate and train the model"
   ]
  },
  {
   "cell_type": "code",
   "execution_count": 8,
   "id": "08737fb3-de24-432d-b7d7-ab62b6228bd0",
   "metadata": {},
   "outputs": [],
   "source": [
    "// Use 'npm:@tensorflow/tfjs-node' if you don't have CUDA\n",
    "import tf from 'npm:@tensorflow/tfjs-node-gpu'\n",
    "\n",
    "const model = tf.sequential();\n",
    "\n",
    "// Start with the input layer\n",
    "model.add(tf.layers.dense({ units: 16, inputShape: [2], activation: 'relu'}));\n",
    "\n",
    "// Secondary learning hidden layer\n",
    "model.add(tf.layers.dense({ units: 32, activation: 'relu'}));\n",
    "\n",
    "// The output layer\n",
    "model.add(tf.layers.dense({ units: 1, activation: 'sigmoid'}));\n",
    "\n",
    "// Compile the model in memory\n",
    "model.compile({loss: 'binaryCrossentropy', optimizer: 'adam'})\n",
    "\n",
    "// Define tensors\n",
    "const xs = tf.tensor2d(inputVector, [inputVector.length, 2]);\n",
    "const ys = tf.tensor2d(outputVector, [outputVector.length, 1]);\n",
    "\n",
    "const _np = await model.fit(xs, ys, {epochs: 3000, verbose: 0, validationSplit: 0.3});"
   ]
  },
  {
   "cell_type": "markdown",
   "id": "254f57b3-040e-4509-9458-186e5fea529e",
   "metadata": {},
   "source": [
    "## Test the model by predictions"
   ]
  },
  {
   "cell_type": "code",
   "execution_count": 18,
   "id": "27dfeea7-9abf-41f0-b7e5-6bf65cc5539b",
   "metadata": {},
   "outputs": [
    {
     "data": {
      "text/plain": [
       "[\n",
       "  { pred: \u001b[32m\"RUNNING\"\u001b[39m, desc: \u001b[32m\"Monday, not the last day of month\"\u001b[39m },\n",
       "  { pred: \u001b[32m\"NOT RUNNING\"\u001b[39m, desc: \u001b[32m\"Tuesday, not the last day of month\"\u001b[39m },\n",
       "  { pred: \u001b[32m\"NOT RUNNING\"\u001b[39m, desc: \u001b[32m\"Wednesday, IS the last day of month\"\u001b[39m },\n",
       "  { pred: \u001b[32m\"NOT RUNNING\"\u001b[39m, desc: \u001b[32m\"Thursday, IS the last day of month\"\u001b[39m },\n",
       "  { pred: \u001b[32m\"RUNNING\"\u001b[39m, desc: \u001b[32m\"Friday, not the last day of month  \"\u001b[39m },\n",
       "  { pred: \u001b[32m\"NOT RUNNING\"\u001b[39m, desc: \u001b[32m\"Friday, IS the last day of month  \"\u001b[39m },\n",
       "  { pred: \u001b[32m\"RUNNING\"\u001b[39m, desc: \u001b[32m\"Wednesday, not the last day of month\"\u001b[39m },\n",
       "  { pred: \u001b[32m\"RUNNING\"\u001b[39m, desc: \u001b[32m\"Thursday, not the last day of month\"\u001b[39m },\n",
       "  { pred: \u001b[32m\"NOT RUNNING\"\u001b[39m, desc: \u001b[32m\"Saturday, not the last day of month\"\u001b[39m },\n",
       "  { pred: \u001b[32m\"NOT RUNNING\"\u001b[39m, desc: \u001b[32m\"Sunday, not the last day of month\"\u001b[39m }\n",
       "]"
      ]
     },
     "execution_count": 18,
     "metadata": {},
     "output_type": "execute_result"
    }
   ],
   "source": [
    "const predictInputs = [\n",
    "  {p: [1, 0], d: 'Monday, not the last day of month'},\n",
    "  {p: [2, 0], d:'Tuesday, not the last day of month'},\n",
    "  {p: [3, 1], d: 'Wednesday, IS the last day of month'},\n",
    "  {p: [4, 1], d:'Thursday, IS the last day of month'},\n",
    "  {p: [5, 0], d: 'Friday, not the last day of month  '},\n",
    "  {p: [5, 1], d: 'Friday, IS the last day of month  '},\n",
    "  {p: [3, 0], d: 'Wednesday, not the last day of month'},\n",
    "  {p: [4, 0], d:'Thursday, not the last day of month'},\n",
    "  {p: [6, 0], d:'Saturday, not the last day of month'},\n",
    "  {p: [7, 0], d:'Sunday, not the last day of month'},\n",
    "]\n",
    "\n",
    "const predictTensor = tf.tensor2d(predictInputs.map(_ => _.p), [predictInputs.length, 2])\n",
    "const prediction = await model.predict(predictTensor).data();\n",
    "\n",
    "const threshold = 0.6;\n",
    "\n",
    "predictInputs.map((pred, i) => ({\n",
    "  pred: prediction[i] > threshold ? 'RUNNING' : 'NOT RUNNING',\n",
    "  desc: pred.d  \n",
    "}))\n"
   ]
  }
 ],
 "metadata": {
  "kernelspec": {
   "display_name": "Deno",
   "language": "typescript",
   "name": "deno"
  },
  "language_info": {
   "codemirror_mode": "typescript",
   "file_extension": ".ts",
   "mimetype": "text/x.typescript",
   "name": "typescript",
   "nbconvert_exporter": "script",
   "pygments_lexer": "typescript",
   "version": "5.6.2"
  }
 },
 "nbformat": 4,
 "nbformat_minor": 5
}
