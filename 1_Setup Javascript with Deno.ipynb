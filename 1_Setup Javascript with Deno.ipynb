{
 "cells": [
  {
   "cell_type": "code",
   "execution_count": 1,
   "id": "3abfb76d-d167-4d2d-bc3b-76721295de7e",
   "metadata": {},
   "outputs": [
    {
     "name": "stdout",
     "output_type": "stream",
     "text": [
      "Hello from Deno JS\n"
     ]
    }
   ],
   "source": [
    "console.log('Hello from Deno JS');"
   ]
  },
  {
   "cell_type": "code",
   "execution_count": 2,
   "id": "6950043f-925c-457f-9a4c-929dc9c70b50",
   "metadata": {},
   "outputs": [
    {
     "name": "stdout",
     "output_type": "stream",
     "text": [
      "Hello AFI\n"
     ]
    }
   ],
   "source": [
    "const name = 'AFI'\n",
    "console.log(`Hello ${name}`);"
   ]
  },
  {
   "cell_type": "markdown",
   "id": "6917202a-9a0d-4f6e-b304-8cd6e9d56861",
   "metadata": {},
   "source": [
    "# Import NodeJS native modules"
   ]
  },
  {
   "cell_type": "code",
   "execution_count": 27,
   "id": "2a23089a-c088-47e9-bd72-4ed2e1e52987",
   "metadata": {},
   "outputs": [],
   "source": [
    "import os from 'node:os'"
   ]
  },
  {
   "cell_type": "code",
   "execution_count": 28,
   "id": "6372aee3-10f6-417f-8fa3-d83aeccadd11",
   "metadata": {},
   "outputs": [
    {
     "name": "stdout",
     "output_type": "stream",
     "text": [
      "Current directory is: /home/afivan\n",
      "Current architecture is: x64\n"
     ]
    }
   ],
   "source": [
    "console.log(`Current directory is: ${os.homedir()}`)\n",
    "console.log(`Current architecture is: ${os.arch()}`)"
   ]
  },
  {
   "cell_type": "markdown",
   "id": "acd75357-45b9-4db0-bb8f-0f1015fd4c86",
   "metadata": {},
   "source": [
    "# Import NPM modules"
   ]
  },
  {
   "cell_type": "code",
   "execution_count": 29,
   "id": "2290c6c8-1516-4b7c-bb89-056feaa0db8f",
   "metadata": {},
   "outputs": [],
   "source": [
    "import pl from 'npm:nodejs-polars';"
   ]
  },
  {
   "cell_type": "code",
   "execution_count": 30,
   "id": "c63f1cc6-1a5e-47c6-84a7-a6e78ce373a8",
   "metadata": {},
   "outputs": [
    {
     "data": {
      "application/vnd.dataresource+json": {
       "bytes": null,
       "data": [
        {
         "awesome": true,
         "name": "AFIEther"
        }
       ],
       "description": null,
       "dialect": null,
       "encoding": null,
       "format": null,
       "hash": null,
       "homepage": null,
       "licenses": null,
       "mediatype": null,
       "path": null,
       "schema": {
        "fields": [
         {
          "constraints": null,
          "description": null,
          "example": null,
          "format": null,
          "name": "name",
          "rdfType": null,
          "title": null,
          "type": "string"
         },
         {
          "constraints": null,
          "description": null,
          "example": null,
          "format": null,
          "name": "awesome",
          "rdfType": null,
          "title": null,
          "type": "boolean"
         }
        ],
        "foreignKeys": null,
        "missingValues": null,
        "primaryKey": null
       },
       "sources": null,
       "title": null
      },
      "text/html": [
       "<table><thead><tr><th>name</th><th>awesome</th></tr></thead><tbody><tr><td>AFIEther</td><td>true</td></tr></tbody></table>"
      ]
     },
     "execution_count": 30,
     "metadata": {},
     "output_type": "execute_result"
    }
   ],
   "source": [
    "pl.readJSON('{\"name\": \"AFIEther\", \"awesome\": true}')"
   ]
  },
  {
   "cell_type": "markdown",
   "id": "17dbb58e-bc74-4ce0-9c93-9cc109fbc42e",
   "metadata": {},
   "source": [
    "# Display Markdown (Deno)"
   ]
  },
  {
   "cell_type": "code",
   "execution_count": 33,
   "id": "3f0fc9b9-2554-4511-9e76-49bf008d2f5a",
   "metadata": {},
   "outputs": [],
   "source": [
    "import { display } from 'https://deno.land/x/display/mod.ts'"
   ]
  },
  {
   "cell_type": "code",
   "execution_count": 35,
   "id": "c38de51d-a8bf-4201-a165-692c9e760480",
   "metadata": {},
   "outputs": [
    {
     "data": {
      "text/markdown": [
       "Javascript Notebooks with Deno by **AFIEther**! ![](https://www.afiether.com/favicon.png)"
      ]
     },
     "metadata": {},
     "output_type": "display_data"
    }
   ],
   "source": [
    "await display({\n",
    "    \"text/markdown\": \"Javascript Notebooks with Deno by **AFIEther**! ![](https://www.afiether.com/favicon.png)\"\n",
    "}, { raw: true });"
   ]
  },
  {
   "cell_type": "markdown",
   "id": "9939d972-beec-41fa-a4c3-67e0d7228ef9",
   "metadata": {},
   "source": [
    "# Use fetch to download files from internet"
   ]
  },
  {
   "cell_type": "code",
   "execution_count": 46,
   "id": "f5486e3e-c5bc-41a9-9a1e-74543eb07551",
   "metadata": {},
   "outputs": [],
   "source": [
    "let response = await fetch('https://cdn.jsdelivr.net/npm/world-atlas@1/world/110m.tsv')\n",
    "let data = await response.text();\n",
    "let df = pl.readCSV(data, { sep: '\\t' });\n"
   ]
  },
  {
   "cell_type": "code",
   "execution_count": 54,
   "id": "eb778757-6e7b-4e1e-83a6-b333b0d427ee",
   "metadata": {},
   "outputs": [
    {
     "data": {
      "application/vnd.dataresource+json": {
       "bytes": null,
       "data": [
        {
         "Continent": "Asia",
         "Population": 4085852698
        },
        {
         "Continent": "Africa",
         "Population": 993281878
        },
        {
         "Continent": "Europe",
         "Population": 728131201
        },
        {
         "Continent": "North America",
         "Population": 539350981
        },
        {
         "Continent": "South America",
         "Population": 394355478
        },
        {
         "Continent": "Oceania",
         "Population": 33519610
        },
        {
         "Continent": "Antarctica",
         "Population": 3802
        },
        {
         "Continent": "Seven seas (open ocean)",
         "Population": 140
        }
       ],
       "description": null,
       "dialect": null,
       "encoding": null,
       "format": null,
       "hash": null,
       "homepage": null,
       "licenses": null,
       "mediatype": null,
       "path": null,
       "schema": {
        "fields": [
         {
          "constraints": null,
          "description": null,
          "example": null,
          "format": null,
          "name": "Continent",
          "rdfType": null,
          "title": null,
          "type": "string"
         },
         {
          "constraints": null,
          "description": null,
          "example": null,
          "format": null,
          "name": "Population",
          "rdfType": null,
          "title": null,
          "type": "integer"
         }
        ],
        "foreignKeys": null,
        "missingValues": null,
        "primaryKey": null
       },
       "sources": null,
       "title": null
      },
      "text/html": [
       "<table><thead><tr><th>Continent</th><th>Population</th></tr></thead><tbody><tr><td>Asia</td><td>4085852698</td></tr><tr><td>Africa</td><td>993281878</td></tr><tr><td>Europe</td><td>728131201</td></tr><tr><td>North America</td><td>539350981</td></tr><tr><td>South America</td><td>394355478</td></tr><tr><td>Oceania</td><td>33519610</td></tr><tr><td>Antarctica</td><td>3802</td></tr><tr><td>Seven seas (open ocean)</td><td>140</td></tr></tbody></table>"
      ]
     },
     "execution_count": 54,
     "metadata": {},
     "output_type": "execute_result"
    }
   ],
   "source": [
    "// Add an aggregation on the population (pop_est)\n",
    "let sortedDf = df\n",
    "    .groupBy('continent')\n",
    "    .agg(pl.col('pop_est').sum().alias('Population'))\n",
    "    .sort('Population', true)\n",
    "    .select(pl.col('continent').alias('Continent'), pl.col('Population'))\n",
    "    ;\n",
    "sortedDf"
   ]
  },
  {
   "cell_type": "markdown",
   "id": "da2ae7e5-35c0-4f2e-9e6d-361f85f6764a",
   "metadata": {},
   "source": [
    "# Use Plot library to plot a chart"
   ]
  },
  {
   "cell_type": "code",
   "execution_count": 62,
   "id": "d685b7e8-56bb-48d6-84db-b61073efcded",
   "metadata": {},
   "outputs": [
    {
     "data": {
      "image/svg+xml": [
       "<svg viewBox=\"0 0 640 220\" height=\"220\" width=\"640\" text-anchor=\"middle\" font-size=\"10\" font-family=\"system-ui, sans-serif\" fill=\"currentColor\" class=\"plot-d6a7b5\"><style>.plot-d6a7b5 {\n",
       "  display: block;\n",
       "  background: white;\n",
       "  height: auto;\n",
       "  height: intrinsic;\n",
       "  max-width: 100%;\n",
       "}\n",
       ".plot-d6a7b5 text,\n",
       ".plot-d6a7b5 tspan {\n",
       "  white-space: pre;\n",
       "}</style><g transform=\"translate(0,9)\" stroke=\"currentColor\" fill=\"none\" aria-label=\"y-axis tick\"><path d=\"M0,0L-6,0\" transform=\"translate(180,26)\" /><path d=\"M0,0L-6,0\" transform=\"translate(180,46)\" /><path d=\"M0,0L-6,0\" transform=\"translate(180,66)\" /><path d=\"M0,0L-6,0\" transform=\"translate(180,86)\" /><path d=\"M0,0L-6,0\" transform=\"translate(180,106)\" /><path d=\"M0,0L-6,0\" transform=\"translate(180,126)\" /><path d=\"M0,0L-6,0\" transform=\"translate(180,146)\" /><path d=\"M0,0L-6,0\" transform=\"translate(180,166)\" /></g><g transform=\"translate(-9,9)\" text-anchor=\"end\" aria-label=\"y-axis tick label\"><text transform=\"translate(180,26)\" y=\"0.32em\">Asia</text><text transform=\"translate(180,46)\" y=\"0.32em\">Africa</text><text transform=\"translate(180,66)\" y=\"0.32em\">Europe</text><text transform=\"translate(180,86)\" y=\"0.32em\">North America</text><text transform=\"translate(180,106)\" y=\"0.32em\">South America</text><text transform=\"translate(180,126)\" y=\"0.32em\">Oceania</text><text transform=\"translate(180,146)\" y=\"0.32em\">Antarctica</text><text transform=\"translate(180,166)\" y=\"0.32em\">Seven seas (open ocean)</text></g><g transform=\"translate(-177,0)\" aria-label=\"y-axis label\"><text transform=\"translate(180,105) rotate(-90)\" y=\"0.71em\">Continent</text></g><g stroke=\"currentColor\" fill=\"none\" aria-label=\"x-axis tick\"><path d=\"M0,0L0,6\" transform=\"translate(180,190)\" /><path d=\"M0,0L0,6\" transform=\"translate(287.68865950928125,190)\" /><path d=\"M0,0L0,6\" transform=\"translate(395.3773190185624,190)\" /><path d=\"M0,0L0,6\" transform=\"translate(503.0659785278436,190)\" /><path d=\"M0,0L0,6\" transform=\"translate(610.7546380371249,190)\" /></g><g transform=\"translate(0,9)\" font-variant=\"tabular-nums\" aria-label=\"x-axis tick label\"><text transform=\"translate(180,190)\" y=\"0.71em\">0</text><text transform=\"translate(287.68865950928125,190)\" y=\"0.71em\">1,000,000,000</text><text transform=\"translate(395.3773190185624,190)\" y=\"0.71em\">2,000,000,000</text><text transform=\"translate(503.0659785278436,190)\" y=\"0.71em\">3,000,000,000</text><text transform=\"translate(610.7546380371249,190)\" y=\"0.71em\">4,000,000,000</text></g><g transform=\"translate(17,27)\" text-anchor=\"end\" aria-label=\"x-axis label\"><text transform=\"translate(620,190)\">Population →</text></g><g fill=\"purple\" aria-label=\"bar\"><rect height=\"18\" y=\"26\" width=\"440\" x=\"180\" /><rect height=\"18\" y=\"46\" width=\"106.96519395668145\" x=\"180\" /><rect height=\"18\" y=\"66\" width=\"78.411472982573\" x=\"180\" /><rect height=\"18\" y=\"86\" width=\"58.0819841489058\" x=\"180\" /><rect height=\"18\" y=\"106\" width=\"42.467612795961855\" x=\"180\" /><rect height=\"18\" y=\"126\" width=\"3.609681868173908\" x=\"180\" /><rect height=\"18\" y=\"146\" width=\"0.0004094322834760078\" x=\"180\" /><rect height=\"18\" y=\"166\" width=\"0.00001507641232478818\" x=\"180\" /></g></svg>"
      ]
     },
     "execution_count": 62,
     "metadata": {},
     "output_type": "execute_result"
    }
   ],
   "source": [
    "import Plot from 'https://deno.land/x/plot/mod.ts'\n",
    "let records = sortedDf.toRecords();\n",
    "\n",
    "Plot.plot({\n",
    "    marginLeft: 180,\n",
    "    marks: [\n",
    "        Plot.barX(records, {\n",
    "            x: \"Population\",\n",
    "            y: \"Continent\",\n",
    "            fill: 'purple',\n",
    "            sort: { y: 'x', reverse: true },\n",
    "        }),\n",
    "    ]\n",
    "});"
   ]
  },
  {
   "cell_type": "markdown",
   "id": "a3987a07-6109-4d60-bda7-6d90a7173df3",
   "metadata": {},
   "source": [
    "# Import Tensorflow JS libraries for ML project"
   ]
  },
  {
   "cell_type": "code",
   "execution_count": 11,
   "id": "5b956db9-31c8-4ca0-9bc7-6a82909f7424",
   "metadata": {},
   "outputs": [
    {
     "name": "stderr",
     "output_type": "stream",
     "text": [
      "The kernel 'FFT' for backend 'tensorflow' is already registered\n",
      "The kernel 'IFFT' for backend 'tensorflow' is already registered\n",
      "The kernel 'LRN' for backend 'tensorflow' is already registered\n",
      "The kernel 'LRNGrad' for backend 'tensorflow' is already registered\n",
      "The kernel '_FusedMatMul' for backend 'tensorflow' is already registered\n",
      "The kernel 'Abs' for backend 'tensorflow' is already registered\n",
      "The kernel 'Acos' for backend 'tensorflow' is already registered\n",
      "The kernel 'Acosh' for backend 'tensorflow' is already registered\n",
      "The kernel 'Add' for backend 'tensorflow' is already registered\n",
      "The kernel 'AddN' for backend 'tensorflow' is already registered\n",
      "The kernel 'All' for backend 'tensorflow' is already registered\n",
      "The kernel 'Any' for backend 'tensorflow' is already registered\n",
      "The kernel 'ArgMax' for backend 'tensorflow' is already registered\n",
      "The kernel 'ArgMin' for backend 'tensorflow' is already registered\n",
      "The kernel 'Asin' for backend 'tensorflow' is already registered\n",
      "The kernel 'Asinh' for backend 'tensorflow' is already registered\n",
      "The kernel 'Atan2' for backend 'tensorflow' is already registered\n",
      "The kernel 'Atan' for backend 'tensorflow' is already registered\n",
      "The kernel 'Atanh' for backend 'tensorflow' is already registered\n",
      "The kernel 'AvgPool3D' for backend 'tensorflow' is already registered\n",
      "The kernel 'AvgPool3DGrad' for backend 'tensorflow' is already registered\n",
      "The kernel 'AvgPool' for backend 'tensorflow' is already registered\n",
      "The kernel 'AvgPoolGrad' for backend 'tensorflow' is already registered\n",
      "The kernel 'BatchMatMul' for backend 'tensorflow' is already registered\n",
      "The kernel 'BatchToSpaceND' for backend 'tensorflow' is already registered\n",
      "The kernel 'BroadcastArgs' for backend 'tensorflow' is already registered\n",
      "The kernel 'Cast' for backend 'tensorflow' is already registered\n",
      "The kernel 'Ceil' for backend 'tensorflow' is already registered\n",
      "The kernel 'ClipByValue' for backend 'tensorflow' is already registered\n",
      "The kernel 'ComplexAbs' for backend 'tensorflow' is already registered\n",
      "The kernel 'Complex' for backend 'tensorflow' is already registered\n",
      "The kernel 'Concat' for backend 'tensorflow' is already registered\n",
      "The kernel 'Conv2DBackpropFilter' for backend 'tensorflow' is already registered\n",
      "The kernel 'Conv2DBackpropInput' for backend 'tensorflow' is already registered\n",
      "The kernel 'Conv2D' for backend 'tensorflow' is already registered\n",
      "The kernel 'Conv3DBackpropFilterV2' for backend 'tensorflow' is already registered\n",
      "The kernel 'Conv3DBackpropInputV2' for backend 'tensorflow' is already registered\n",
      "The kernel 'Conv3D' for backend 'tensorflow' is already registered\n",
      "The kernel 'Cos' for backend 'tensorflow' is already registered\n",
      "The kernel 'Cosh' for backend 'tensorflow' is already registered\n",
      "The kernel 'CropAndResize' for backend 'tensorflow' is already registered\n",
      "The kernel 'Cumprod' for backend 'tensorflow' is already registered\n",
      "The kernel 'Cumsum' for backend 'tensorflow' is already registered\n",
      "The kernel 'Bincount' for backend 'tensorflow' is already registered\n",
      "The kernel 'DepthToSpace' for backend 'tensorflow' is already registered\n",
      "The kernel 'DepthwiseConv2dNativeBackpropFilter' for backend 'tensorflow' is already registered\n",
      "The kernel 'DepthwiseConv2dNativeBackpropInput' for backend 'tensorflow' is already registered\n",
      "The kernel 'DepthwiseConv2dNative' for backend 'tensorflow' is already registered\n",
      "The kernel 'Diag' for backend 'tensorflow' is already registered\n",
      "The kernel 'Dilation2DBackpropFilter' for backend 'tensorflow' is already registered\n",
      "The kernel 'Dilation2DBackpropInput' for backend 'tensorflow' is already registered\n",
      "The kernel 'Dilation2D' for backend 'tensorflow' is already registered\n",
      "The kernel 'Elu' for backend 'tensorflow' is already registered\n",
      "The kernel 'EluGrad' for backend 'tensorflow' is already registered\n",
      "The kernel 'Einsum' for backend 'tensorflow' is already registered\n",
      "The kernel 'Equal' for backend 'tensorflow' is already registered\n",
      "The kernel 'Erf' for backend 'tensorflow' is already registered\n",
      "The kernel 'Exp' for backend 'tensorflow' is already registered\n",
      "The kernel 'ExpandDims' for backend 'tensorflow' is already registered\n",
      "The kernel 'Expm1' for backend 'tensorflow' is already registered\n",
      "The kernel 'Fill' for backend 'tensorflow' is already registered\n",
      "The kernel 'FlipLeftRight' for backend 'tensorflow' is already registered\n",
      "The kernel 'Floor' for backend 'tensorflow' is already registered\n",
      "The kernel 'FloorDiv' for backend 'tensorflow' is already registered\n",
      "The kernel 'FusedBatchNorm' for backend 'tensorflow' is already registered\n",
      "The kernel 'FusedConv2D' for backend 'tensorflow' is already registered\n",
      "The kernel 'FusedDepthwiseConv2D' for backend 'tensorflow' is already registered\n",
      "The kernel 'GatherNd' for backend 'tensorflow' is already registered\n",
      "The kernel 'GatherV2' for backend 'tensorflow' is already registered\n",
      "The kernel 'Greater' for backend 'tensorflow' is already registered\n",
      "The kernel 'GreaterEqual' for backend 'tensorflow' is already registered\n",
      "The kernel 'Identity' for backend 'tensorflow' is already registered\n",
      "The kernel 'Imag' for backend 'tensorflow' is already registered\n",
      "The kernel 'IsFinite' for backend 'tensorflow' is already registered\n",
      "The kernel 'IsInf' for backend 'tensorflow' is already registered\n",
      "The kernel 'IsNan' for backend 'tensorflow' is already registered\n",
      "The kernel 'LeakyRelu' for backend 'tensorflow' is already registered\n",
      "The kernel 'Less' for backend 'tensorflow' is already registered\n",
      "The kernel 'LessEqual' for backend 'tensorflow' is already registered\n",
      "The kernel 'LinSpace' for backend 'tensorflow' is already registered\n",
      "The kernel 'Log1p' for backend 'tensorflow' is already registered\n",
      "The kernel 'Log' for backend 'tensorflow' is already registered\n",
      "The kernel 'LogicalAnd' for backend 'tensorflow' is already registered\n",
      "The kernel 'LogicalNot' for backend 'tensorflow' is already registered\n",
      "The kernel 'LogicalOr' for backend 'tensorflow' is already registered\n",
      "The kernel 'Max' for backend 'tensorflow' is already registered\n",
      "The kernel 'MaxPool3D' for backend 'tensorflow' is already registered\n",
      "The kernel 'MaxPool3DGrad' for backend 'tensorflow' is already registered\n",
      "The kernel 'MaxPool' for backend 'tensorflow' is already registered\n",
      "The kernel 'MaxPoolGrad' for backend 'tensorflow' is already registered\n",
      "The kernel 'Maximum' for backend 'tensorflow' is already registered\n",
      "The kernel 'Mean' for backend 'tensorflow' is already registered\n",
      "The kernel 'Min' for backend 'tensorflow' is already registered\n",
      "The kernel 'Minimum' for backend 'tensorflow' is already registered\n",
      "The kernel 'MirrorPad' for backend 'tensorflow' is already registered\n",
      "The kernel 'Mod' for backend 'tensorflow' is already registered\n",
      "The kernel 'Multinomial' for backend 'tensorflow' is already registered\n",
      "The kernel 'Multiply' for backend 'tensorflow' is already registered\n",
      "The kernel 'Neg' for backend 'tensorflow' is already registered\n",
      "The kernel 'NonMaxSuppressionV3' for backend 'tensorflow' is already registered\n",
      "The kernel 'NonMaxSuppressionV4' for backend 'tensorflow' is already registered\n",
      "The kernel 'NonMaxSuppressionV5' for backend 'tensorflow' is already registered\n",
      "The kernel 'NotEqual' for backend 'tensorflow' is already registered\n",
      "The kernel 'OneHot' for backend 'tensorflow' is already registered\n",
      "The kernel 'OnesLike' for backend 'tensorflow' is already registered\n",
      "The kernel 'Pack' for backend 'tensorflow' is already registered\n",
      "The kernel 'PadV2' for backend 'tensorflow' is already registered\n",
      "The kernel 'Pow' for backend 'tensorflow' is already registered\n",
      "The kernel 'Prelu' for backend 'tensorflow' is already registered\n",
      "The kernel 'Prod' for backend 'tensorflow' is already registered\n",
      "The kernel 'Range' for backend 'tensorflow' is already registered\n",
      "The kernel 'Real' for backend 'tensorflow' is already registered\n",
      "The kernel 'RealDiv' for backend 'tensorflow' is already registered\n",
      "The kernel 'Reciprocal' for backend 'tensorflow' is already registered\n",
      "The kernel 'Relu6' for backend 'tensorflow' is already registered\n",
      "The kernel 'Relu' for backend 'tensorflow' is already registered\n",
      "The kernel 'Reshape' for backend 'tensorflow' is already registered\n",
      "The kernel 'ResizeBilinear' for backend 'tensorflow' is already registered\n",
      "The kernel 'ResizeBilinearGrad' for backend 'tensorflow' is already registered\n",
      "The kernel 'ResizeNearestNeighbor' for backend 'tensorflow' is already registered\n",
      "The kernel 'ResizeNearestNeighborGrad' for backend 'tensorflow' is already registered\n",
      "The kernel 'Reverse' for backend 'tensorflow' is already registered\n",
      "The kernel 'Round' for backend 'tensorflow' is already registered\n",
      "The kernel 'Rsqrt' for backend 'tensorflow' is already registered\n",
      "The kernel 'ScatterNd' for backend 'tensorflow' is already registered\n",
      "The kernel 'Select' for backend 'tensorflow' is already registered\n",
      "The kernel 'Selu' for backend 'tensorflow' is already registered\n",
      "The kernel 'Sigmoid' for backend 'tensorflow' is already registered\n",
      "The kernel 'Sign' for backend 'tensorflow' is already registered\n",
      "The kernel 'Sin' for backend 'tensorflow' is already registered\n",
      "The kernel 'Sinh' for backend 'tensorflow' is already registered\n",
      "The kernel 'Slice' for backend 'tensorflow' is already registered\n",
      "The kernel 'Softmax' for backend 'tensorflow' is already registered\n",
      "The kernel 'Softplus' for backend 'tensorflow' is already registered\n",
      "The kernel 'SpaceToBatchND' for backend 'tensorflow' is already registered\n",
      "The kernel 'SparseToDense' for backend 'tensorflow' is already registered\n",
      "The kernel 'SplitV' for backend 'tensorflow' is already registered\n",
      "The kernel 'Sqrt' for backend 'tensorflow' is already registered\n",
      "The kernel 'Square' for backend 'tensorflow' is already registered\n",
      "The kernel 'SquaredDifference' for backend 'tensorflow' is already registered\n",
      "The kernel 'StaticRegexReplace' for backend 'tensorflow' is already registered\n",
      "The kernel 'Step' for backend 'tensorflow' is already registered\n",
      "The kernel 'StridedSlice' for backend 'tensorflow' is already registered\n",
      "The kernel 'Sub' for backend 'tensorflow' is already registered\n",
      "The kernel 'Sum' for backend 'tensorflow' is already registered\n",
      "The kernel 'Tan' for backend 'tensorflow' is already registered\n",
      "The kernel 'Tanh' for backend 'tensorflow' is already registered\n",
      "The kernel 'TensorScatterUpdate' for backend 'tensorflow' is already registered\n",
      "The kernel 'Tile' for backend 'tensorflow' is already registered\n",
      "The kernel 'TopK' for backend 'tensorflow' is already registered\n",
      "The kernel 'Transpose' for backend 'tensorflow' is already registered\n",
      "The kernel 'Unique' for backend 'tensorflow' is already registered\n",
      "The kernel 'Unpack' for backend 'tensorflow' is already registered\n",
      "The kernel 'UnsortedSegmentSum' for backend 'tensorflow' is already registered\n",
      "The kernel 'ZerosLike' for backend 'tensorflow' is already registered\n",
      "tensorflow backend was already registered. Reusing existing backend factory.\n"
     ]
    }
   ],
   "source": [
    "//import tf from 'npm:@tensorflow/tfjs-node'\n",
    "// Use this import if you have CUDA on your machine (NVIDIA graphics card)\n",
    "import tf from 'npm:@tensorflow/tfjs-node-gpu'"
   ]
  },
  {
   "cell_type": "code",
   "execution_count": 12,
   "id": "e37e8c37-821f-4ba4-9d7b-5efda37e95e0",
   "metadata": {},
   "outputs": [],
   "source": [
    "const model = tf.sequential();"
   ]
  },
  {
   "cell_type": "code",
   "execution_count": 13,
   "id": "97dc28fa-bf3b-4959-8db1-4dbb194f25d7",
   "metadata": {},
   "outputs": [
    {
     "data": {
      "text/plain": [
       "History {\n",
       "  validationData: \u001b[1mnull\u001b[22m,\n",
       "  params: {\n",
       "    epochs: \u001b[33m3250\u001b[39m,\n",
       "    initialEpoch: \u001b[33m0\u001b[39m,\n",
       "    samples: \u001b[33m3\u001b[39m,\n",
       "    steps: \u001b[1mnull\u001b[22m,\n",
       "    batchSize: \u001b[33m32\u001b[39m,\n",
       "    verbose: \u001b[33m0\u001b[39m,\n",
       "    doValidation: \u001b[33mtrue\u001b[39m,\n",
       "    metrics: [ \u001b[32m\"loss\"\u001b[39m, \u001b[32m\"val_loss\"\u001b[39m ]\n",
       "  },\n",
       "  epoch: [\n",
       "     \u001b[33m0\u001b[39m,  \u001b[33m1\u001b[39m,  \u001b[33m2\u001b[39m,  \u001b[33m3\u001b[39m,  \u001b[33m4\u001b[39m,  \u001b[33m5\u001b[39m,  \u001b[33m6\u001b[39m,  \u001b[33m7\u001b[39m,  \u001b[33m8\u001b[39m,  \u001b[33m9\u001b[39m, \u001b[33m10\u001b[39m, \u001b[33m11\u001b[39m,\n",
       "    \u001b[33m12\u001b[39m, \u001b[33m13\u001b[39m, \u001b[33m14\u001b[39m, \u001b[33m15\u001b[39m, \u001b[33m16\u001b[39m, \u001b[33m17\u001b[39m, \u001b[33m18\u001b[39m, \u001b[33m19\u001b[39m, \u001b[33m20\u001b[39m, \u001b[33m21\u001b[39m, \u001b[33m22\u001b[39m, \u001b[33m23\u001b[39m,\n",
       "    \u001b[33m24\u001b[39m, \u001b[33m25\u001b[39m, \u001b[33m26\u001b[39m, \u001b[33m27\u001b[39m, \u001b[33m28\u001b[39m, \u001b[33m29\u001b[39m, \u001b[33m30\u001b[39m, \u001b[33m31\u001b[39m, \u001b[33m32\u001b[39m, \u001b[33m33\u001b[39m, \u001b[33m34\u001b[39m, \u001b[33m35\u001b[39m,\n",
       "    \u001b[33m36\u001b[39m, \u001b[33m37\u001b[39m, \u001b[33m38\u001b[39m, \u001b[33m39\u001b[39m, \u001b[33m40\u001b[39m, \u001b[33m41\u001b[39m, \u001b[33m42\u001b[39m, \u001b[33m43\u001b[39m, \u001b[33m44\u001b[39m, \u001b[33m45\u001b[39m, \u001b[33m46\u001b[39m, \u001b[33m47\u001b[39m,\n",
       "    \u001b[33m48\u001b[39m, \u001b[33m49\u001b[39m, \u001b[33m50\u001b[39m, \u001b[33m51\u001b[39m, \u001b[33m52\u001b[39m, \u001b[33m53\u001b[39m, \u001b[33m54\u001b[39m, \u001b[33m55\u001b[39m, \u001b[33m56\u001b[39m, \u001b[33m57\u001b[39m, \u001b[33m58\u001b[39m, \u001b[33m59\u001b[39m,\n",
       "    \u001b[33m60\u001b[39m, \u001b[33m61\u001b[39m, \u001b[33m62\u001b[39m, \u001b[33m63\u001b[39m, \u001b[33m64\u001b[39m, \u001b[33m65\u001b[39m, \u001b[33m66\u001b[39m, \u001b[33m67\u001b[39m, \u001b[33m68\u001b[39m, \u001b[33m69\u001b[39m, \u001b[33m70\u001b[39m, \u001b[33m71\u001b[39m,\n",
       "    \u001b[33m72\u001b[39m, \u001b[33m73\u001b[39m, \u001b[33m74\u001b[39m, \u001b[33m75\u001b[39m, \u001b[33m76\u001b[39m, \u001b[33m77\u001b[39m, \u001b[33m78\u001b[39m, \u001b[33m79\u001b[39m, \u001b[33m80\u001b[39m, \u001b[33m81\u001b[39m, \u001b[33m82\u001b[39m, \u001b[33m83\u001b[39m,\n",
       "    \u001b[33m84\u001b[39m, \u001b[33m85\u001b[39m, \u001b[33m86\u001b[39m, \u001b[33m87\u001b[39m, \u001b[33m88\u001b[39m, \u001b[33m89\u001b[39m, \u001b[33m90\u001b[39m, \u001b[33m91\u001b[39m, \u001b[33m92\u001b[39m, \u001b[33m93\u001b[39m, \u001b[33m94\u001b[39m, \u001b[33m95\u001b[39m,\n",
       "    \u001b[33m96\u001b[39m, \u001b[33m97\u001b[39m, \u001b[33m98\u001b[39m, \u001b[33m99\u001b[39m,\n",
       "    ... 3150 more items\n",
       "  ],\n",
       "  history: {\n",
       "    val_loss: [\n",
       "         \u001b[33m0.007930275052785873\u001b[39m,    \u001b[33m0.006407310254871845\u001b[39m,    \u001b[33m0.005189282353967428\u001b[39m,\n",
       "         \u001b[33m0.004213848151266575\u001b[39m,    \u001b[33m0.003431557910516858\u001b[39m,   \u001b[33m0.0028032620903104544\u001b[39m,\n",
       "        \u001b[33m0.0022977697663009167\u001b[39m,   \u001b[33m0.0018903696909546852\u001b[39m,   \u001b[33m0.0015613659052178264\u001b[39m,\n",
       "        \u001b[33m0.0012951255775988102\u001b[39m,   \u001b[33m0.0010791689855977893\u001b[39m,   \u001b[33m0.0009035828988999128\u001b[39m,\n",
       "        \u001b[33m0.0007604558486491442\u001b[39m,   \u001b[33m0.0006434749811887741\u001b[39m,   \u001b[33m0.0005475793732330203\u001b[39m,\n",
       "       \u001b[33m0.00046874769032001495\u001b[39m,  \u001b[33m0.00040372752118855715\u001b[39m,   \u001b[33m0.0003499149752315134\u001b[39m,\n",
       "       \u001b[33m0.00030524894827976823\u001b[39m,   \u001b[33m0.0002680314355529845\u001b[39m,  \u001b[33m0.00023692176910117269\u001b[39m,\n",
       "       \u001b[33m0.00021081563318148255\u001b[39m,  \u001b[33m0.00018884165911003947\u001b[39m,  \u001b[33m0.00017026350542437285\u001b[39m,\n",
       "        \u001b[33m0.0001545172417536378\u001b[39m,   \u001b[33m0.0001411096309311688\u001b[39m,  \u001b[33m0.00012965366477146745\u001b[39m,\n",
       "       \u001b[33m0.00011984276352450252\u001b[39m,  \u001b[33m0.00011139595881104469\u001b[39m,  \u001b[33m0.00010411546827526763\u001b[39m,\n",
       "       \u001b[33m0.00009780301479622722\u001b[39m,  \u001b[33m0.00009232814045390114\u001b[39m,  \u001b[33m0.00008755379531066865\u001b[39m,\n",
       "       \u001b[33m0.00008337432518601418\u001b[39m,  \u001b[33m0.00007971713785082102\u001b[39m,  \u001b[33m0.00007650023326277733\u001b[39m,\n",
       "       \u001b[33m0.00007366097997874022\u001b[39m,  \u001b[33m0.00007115143671398982\u001b[39m,  \u001b[33m0.00006892438977956772\u001b[39m,\n",
       "       \u001b[33m0.00006694150943076238\u001b[39m,  \u001b[33m0.00006517239671666175\u001b[39m,   \u001b[33m0.0000635886681266129\u001b[39m,\n",
       "         \u001b[33m0.000062168764998205\u001b[39m,  \u001b[33m0.00006089173984946683\u001b[39m,  \u001b[33m0.00005973622319288552\u001b[39m,\n",
       "        \u001b[33m0.0000586869427934289\u001b[39m, \u001b[33m0.000057735647715162486\u001b[39m,  \u001b[33m0.00005686394069925882\u001b[39m,\n",
       "       \u001b[33m0.00005607015918940306\u001b[39m,  \u001b[33m0.00005533681905944832\u001b[39m,  \u001b[33m0.00005466625589178875\u001b[39m,\n",
       "        \u001b[33m0.0000540437176823616\u001b[39m,  \u001b[33m0.00005346502803149633\u001b[39m, \u001b[33m0.000052927462093066424\u001b[39m,\n",
       "      \u001b[33m0.000052425013564061373\u001b[39m,  \u001b[33m0.00005195255289436318\u001b[39m,  \u001b[33m0.00005151173900230788\u001b[39m,\n",
       "       \u001b[33m0.00005108944606035948\u001b[39m, \u001b[33m0.000050690799980657175\u001b[39m,  \u001b[33m0.00005031095497542992\u001b[39m,\n",
       "       \u001b[33m0.00004995099880034104\u001b[39m, \u001b[33m0.000049602167564444244\u001b[39m, \u001b[33m0.000049269627197645605\u001b[39m,\n",
       "       \u001b[33m0.00004894996527582407\u001b[39m,  \u001b[33m0.00004863981303060427\u001b[39m, \u001b[33m0.000048340356443077326\u001b[39m,\n",
       "       \u001b[33m0.00004805025309906341\u001b[39m,  \u001b[33m0.00004776745117851533\u001b[39m, \u001b[33m0.000047493860620306805\u001b[39m,\n",
       "       \u001b[33m0.00004722105586552061\u001b[39m,   \u001b[33m0.0000469586047984194\u001b[39m,   \u001b[33m0.0000467020072392188\u001b[39m,\n",
       "      \u001b[33m0.000046449284127447754\u001b[39m,  \u001b[33m0.00004620234903995879\u001b[39m,   \u001b[33m0.0000459623770439066\u001b[39m,\n",
       "      \u001b[33m0.000045717955799773335\u001b[39m,  \u001b[33m0.00004548238939605653\u001b[39m,  \u001b[33m0.00004524742689682171\u001b[39m,\n",
       "       \u001b[33m0.00004501810690271668\u001b[39m,  \u001b[33m0.00004478936898522079\u001b[39m,  \u001b[33m0.00004456241731531918\u001b[39m,\n",
       "      \u001b[33m0.000044337939471006393\u001b[39m,  \u001b[33m0.00004411712143337354\u001b[39m,  \u001b[33m0.00004389874084154144\u001b[39m,\n",
       "      \u001b[33m0.000043682091927621514\u001b[39m,  \u001b[33m0.00004346598143456504\u001b[39m, \u001b[33m0.000043252279283478856\u001b[39m,\n",
       "       \u001b[33m0.00004304215690353885\u001b[39m, \u001b[33m0.000042830677557503805\u001b[39m,  \u001b[33m0.00004261854337528348\u001b[39m,\n",
       "        \u001b[33m0.0000424129975726828\u001b[39m, \u001b[33m0.000042204927012789994\u001b[39m,  \u001b[33m0.00004200038165436126\u001b[39m,\n",
       "       \u001b[33m0.00004179817551630549\u001b[39m,  \u001b[33m0.00004159461605013348\u001b[39m,  \u001b[33m0.00004139455268159509\u001b[39m,\n",
       "      \u001b[33m0.000041193809011019766\u001b[39m,  \u001b[33m0.00004099470970686525\u001b[39m,  \u001b[33m0.00004079494101461023\u001b[39m,\n",
       "        \u001b[33m0.0000405968094128184\u001b[39m,\n",
       "      ... 3150 more items\n",
       "    ],\n",
       "    loss: [\n",
       "      \u001b[33m0.002239273628219962\u001b[39m,\n",
       "      \u001b[33m0.001771940616890788\u001b[39m,\n",
       "      \u001b[33m0.0014025222044438124\u001b[39m,\n",
       "      \u001b[33m0.0011105234734714031\u001b[39m,\n",
       "      \u001b[33m0.000879693019669503\u001b[39m,\n",
       "      \u001b[33m0.0006972241681069136\u001b[39m,\n",
       "      \u001b[33m0.000552987854462117\u001b[39m,\n",
       "      \u001b[33m0.00043896769057027996\u001b[39m,\n",
       "      \u001b[33m0.00034883501939475536\u001b[39m,\n",
       "      \u001b[33m0.00027757411589846015\u001b[39m,\n",
       "      \u001b[33m0.0002212444960605353\u001b[39m,\n",
       "      \u001b[33m0.00017670649685896933\u001b[39m,\n",
       "      \u001b[33m0.00014149295748211443\u001b[39m,\n",
       "      \u001b[33m0.00011365036334609613\u001b[39m,\n",
       "      \u001b[33m0.00009163136564893648\u001b[39m,\n",
       "      \u001b[33m0.00007421883492497727\u001b[39m,\n",
       "      \u001b[33m0.00006044780457159504\u001b[39m,\n",
       "      \u001b[33m0.00004955493932357058\u001b[39m,\n",
       "      \u001b[33m0.000040934737626230344\u001b[39m,\n",
       "      \u001b[33m0.00003411329089431092\u001b[39m,\n",
       "      \u001b[33m0.000028712132916552946\u001b[39m,\n",
       "      \u001b[33m0.000024434393708361313\u001b[39m,\n",
       "      \u001b[33m0.00002104403029079549\u001b[39m,\n",
       "      \u001b[33m0.000018356031432631426\u001b[39m,\n",
       "      \u001b[33m0.0000162238775374135\u001b[39m,\n",
       "      \u001b[33m0.000014530833141179755\u001b[39m,\n",
       "      \u001b[33m0.000013182931979827117\u001b[39m,\n",
       "      \u001b[33m0.00001210901427839417\u001b[39m,\n",
       "      \u001b[33m0.00001125386461353628\u001b[39m,\n",
       "      \u001b[33m0.00001056838664226234\u001b[39m,\n",
       "      \u001b[33m0.000010018980901804753\u001b[39m,\n",
       "      \u001b[33m0.000009576957381796092\u001b[39m,\n",
       "      \u001b[33m0.000009219597814080771\u001b[39m,\n",
       "      \u001b[33m0.000008928704119171016\u001b[39m,\n",
       "      \u001b[33m0.000008690893082530238\u001b[39m,\n",
       "      \u001b[33m0.00000849489060783526\u001b[39m,\n",
       "      \u001b[33m0.00000833317062642891\u001b[39m,\n",
       "      \u001b[33m0.000008197148417821154\u001b[39m,\n",
       "      \u001b[33m0.000008081237865553703\u001b[39m,\n",
       "      \u001b[33m0.000007982547685969621\u001b[39m,\n",
       "      \u001b[33m0.000007896947863628156\u001b[39m,\n",
       "      \u001b[33m0.000007821427971066441\u001b[39m,\n",
       "      \u001b[33m0.000007753875252092257\u001b[39m,\n",
       "      \u001b[33m0.000007693701263633557\u001b[39m,\n",
       "      \u001b[33m0.000007638073839189019\u001b[39m,\n",
       "      \u001b[33m0.000007586969786643749\u001b[39m,\n",
       "      \u001b[33m0.000007538686986663379\u001b[39m,\n",
       "      \u001b[33m0.000007493260909541277\u001b[39m,\n",
       "      \u001b[33m0.000007449699751305161\u001b[39m,\n",
       "      \u001b[33m0.000007408384590235073\u001b[39m,\n",
       "      \u001b[33m0.00000736818492441671\u001b[39m,\n",
       "      \u001b[33m0.000007329661002586363\u001b[39m,\n",
       "      \u001b[33m0.000007291705969691975\u001b[39m,\n",
       "      \u001b[33m0.000007254079719132278\u001b[39m,\n",
       "      \u001b[33m0.0000072172852014773525\u001b[39m,\n",
       "      \u001b[33m0.000007181576620496344\u001b[39m,\n",
       "      \u001b[33m0.000007146229108911939\u001b[39m,\n",
       "      \u001b[33m0.00000711067423253553\u001b[39m,\n",
       "      \u001b[33m0.0000070758374022261705\u001b[39m,\n",
       "      \u001b[33m0.000007041593562462367\u001b[39m,\n",
       "      \u001b[33m0.000007007129170233384\u001b[39m,\n",
       "      \u001b[33m0.000006972940354899038\u001b[39m,\n",
       "      \u001b[33m0.000006939299055375159\u001b[39m,\n",
       "      \u001b[33m0.000006906038834131323\u001b[39m,\n",
       "      \u001b[33m0.000006872790891065961\u001b[39m,\n",
       "      \u001b[33m0.000006839280104031786\u001b[39m,\n",
       "      \u001b[33m0.000006806561486882856\u001b[39m,\n",
       "      \u001b[33m0.000006773635504941922\u001b[39m,\n",
       "      \u001b[33m0.0000067412211137707345\u001b[39m,\n",
       "      \u001b[33m0.000006708723049086984\u001b[39m,\n",
       "      \u001b[33m0.000006676179964415496\u001b[39m,\n",
       "      \u001b[33m0.0000066443362811696716\u001b[39m,\n",
       "      \u001b[33m0.000006612420747842407\u001b[39m,\n",
       "      \u001b[33m0.0000065807157625386026\u001b[39m,\n",
       "      \u001b[33m0.000006548748842760688\u001b[39m,\n",
       "      \u001b[33m0.000006517398560390575\u001b[39m,\n",
       "      \u001b[33m0.000006486188794951886\u001b[39m,\n",
       "      \u001b[33m0.0000064552696130704135\u001b[39m,\n",
       "      \u001b[33m0.000006424276762118097\u001b[39m,\n",
       "      \u001b[33m0.00000639323206996778\u001b[39m,\n",
       "      \u001b[33m0.000006362326530506834\u001b[39m,\n",
       "      \u001b[33m0.000006332172688416904\u001b[39m,\n",
       "      \u001b[33m0.000006301480425463524\u001b[39m,\n",
       "      \u001b[33m0.000006271262009249767\u001b[39m,\n",
       "      \u001b[33m0.000006240717993932776\u001b[39m,\n",
       "      \u001b[33m0.000006211127583810594\u001b[39m,\n",
       "      \u001b[33m0.00000618133617535932\u001b[39m,\n",
       "      \u001b[33m0.000006151491106720641\u001b[39m,\n",
       "      \u001b[33m0.000006121989827079233\u001b[39m,\n",
       "      \u001b[33m0.000006092951480241027\u001b[39m,\n",
       "      \u001b[33m0.0000060633210523519665\u001b[39m,\n",
       "      \u001b[33m0.000006034505986463046\u001b[39m,\n",
       "      \u001b[33m0.000006005285740684485\u001b[39m,\n",
       "      \u001b[33m0.000005976608917990234\u001b[39m,\n",
       "      \u001b[33m0.000005947673344053328\u001b[39m,\n",
       "      \u001b[33m0.000005919134309806395\u001b[39m,\n",
       "      \u001b[33m0.000005890989996260032\u001b[39m,\n",
       "      \u001b[33m0.000005862404123035958\u001b[39m,\n",
       "      \u001b[33m0.0000058345372053736355\u001b[39m,\n",
       "      \u001b[33m0.000005806230547023006\u001b[39m,\n",
       "      ... 3150 more items\n",
       "    ]\n",
       "  }\n",
       "}"
      ]
     },
     "execution_count": 13,
     "metadata": {},
     "output_type": "execute_result"
    }
   ],
   "source": [
    "model.add(tf.layers.dense({units: 1, inputShape: [1]}));\n",
    "model.compile({loss: 'meanSquaredError', optimizer: 'sgd'});\n",
    "\n",
    "// HP to kw kilowatts = hp(I) × 0.7457\n",
    "const xs = tf.tensor2d([1, 2, 3, 4, 5, ], [5, 1]);\n",
    "const ys = tf.tensor2d([0.7457, 1.4914, 2.2371, 2.982799, 3.728499, ], [5, 1]);\n",
    "\n",
    "// Train the model using the data.\n",
    "await model.fit(xs, ys, {epochs: 3250, verbose: 0, validationSplit: 0.3, });"
   ]
  },
  {
   "cell_type": "code",
   "execution_count": 9,
   "id": "b12c9948-7fd7-441c-8ca8-152d10e94db0",
   "metadata": {},
   "outputs": [
    {
     "name": "stdout",
     "output_type": "stream",
     "text": [
      "Float32Array(6) [\n",
      "  \u001b[33m149.13653564453125\u001b[39m,\n",
      "  \u001b[33m7456.82421875\u001b[39m,\n",
      "  \u001b[33m14913.6484375\u001b[39m,\n",
      "  \u001b[33m3728.412109375\u001b[39m,\n",
      "  \u001b[33m21.62483024597168\u001b[39m,\n",
      "  \u001b[33m-8.948148727416992\u001b[39m\n",
      "]\n"
     ]
    }
   ],
   "source": [
    "// Use the model to do inference on a data point the model hasn't seen.\n",
    "const prediction = await model.predict(tf.tensor2d([200, 10000, 20000, 5000, 29, -12], [6, 1])).data();\n",
    "\n",
    "console.log(prediction)"
   ]
  },
  {
   "cell_type": "markdown",
   "id": "6b36d5c1-d470-4dad-bb61-48edee3b3a63",
   "metadata": {},
   "source": [
    "# Using Canvas with Deno and D3 library"
   ]
  },
  {
   "cell_type": "markdown",
   "id": "8b06cd9c-ca0d-4653-97c1-a3f90b250a75",
   "metadata": {},
   "source": [
    "## TODO in the future"
   ]
  },
  {
   "cell_type": "code",
   "execution_count": null,
   "id": "0dec0ee2-557f-4af0-ad9b-7277568a0b51",
   "metadata": {},
   "outputs": [],
   "source": []
  }
 ],
 "metadata": {
  "kernelspec": {
   "display_name": "Deno",
   "language": "typescript",
   "name": "deno"
  },
  "language_info": {
   "codemirror_mode": "typescript",
   "file_extension": ".ts",
   "mimetype": "text/x.typescript",
   "name": "typescript",
   "nbconvert_exporter": "script",
   "pygments_lexer": "typescript",
   "version": "5.6.2"
  }
 },
 "nbformat": 4,
 "nbformat_minor": 5
}
